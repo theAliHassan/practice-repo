{
 "cells": [
  {
   "metadata": {},
   "cell_type": "markdown",
   "source": "# This is a Week-0 Notebook",
   "id": "8a77807f92f26ee"
  },
  {
   "metadata": {
    "ExecuteTime": {
     "end_time": "2025-09-17T10:16:22.540309Z",
     "start_time": "2025-09-17T10:16:22.538045Z"
    }
   },
   "cell_type": "code",
   "source": "print(\"Week-0\")",
   "id": "fbc121e30a2defb3",
   "outputs": [
    {
     "name": "stdout",
     "output_type": "stream",
     "text": [
      "Week-0\n"
     ]
    }
   ],
   "execution_count": 3
  },
  {
   "metadata": {},
   "cell_type": "markdown",
   "source": "# This is a Week-1 Notebook",
   "id": "c7cbb9bee670bc0b"
  },
  {
   "metadata": {
    "ExecuteTime": {
     "end_time": "2025-09-17T10:16:23.718759Z",
     "start_time": "2025-09-17T10:16:23.716286Z"
    }
   },
   "cell_type": "code",
   "source": "print(\"Week-1\")",
   "id": "4af5c0a8d705a580",
   "outputs": [
    {
     "name": "stdout",
     "output_type": "stream",
     "text": [
      "Week-1\n"
     ]
    }
   ],
   "execution_count": 4
  }
 ],
 "metadata": {
  "kernelspec": {
   "display_name": "Python 3",
   "language": "python",
   "name": "python3"
  },
  "language_info": {
   "codemirror_mode": {
    "name": "ipython",
    "version": 2
   },
   "file_extension": ".py",
   "mimetype": "text/x-python",
   "name": "python",
   "nbconvert_exporter": "python",
   "pygments_lexer": "ipython2",
   "version": "2.7.6"
  }
 },
 "nbformat": 4,
 "nbformat_minor": 5
}
