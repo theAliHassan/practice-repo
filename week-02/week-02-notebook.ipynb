{
 "cells": [
  {
   "metadata": {},
   "cell_type": "markdown",
   "source": "# This is a Week-0 Notebook",
   "id": "8a77807f92f26ee"
  },
  {
   "metadata": {
    "ExecuteTime": {
     "end_time": "2025-09-17T10:21:56.066163Z",
     "start_time": "2025-09-17T10:21:56.064226Z"
    }
   },
   "cell_type": "code",
   "source": "print(\"Week-0\")",
   "id": "fbc121e30a2defb3",
   "outputs": [
    {
     "name": "stdout",
     "output_type": "stream",
     "text": [
      "Week-0\n"
     ]
    }
   ],
   "execution_count": 1
  },
  {
   "metadata": {},
   "cell_type": "markdown",
   "source": "# This is a Week-1 Notebook",
   "id": "c7cbb9bee670bc0b"
  },
  {
   "metadata": {
    "ExecuteTime": {
     "end_time": "2025-09-17T10:21:56.913756Z",
     "start_time": "2025-09-17T10:21:56.910346Z"
    }
   },
   "cell_type": "code",
   "source": "print(\"Week-1\")",
   "id": "4af5c0a8d705a580",
   "outputs": [
    {
     "name": "stdout",
     "output_type": "stream",
     "text": [
      "Week-1\n"
     ]
    }
   ],
   "execution_count": 2
  },
  {
   "metadata": {},
   "cell_type": "markdown",
   "source": "# This is a Week-2 Notebook",
   "id": "9a8f5f67cf255b41"
  },
  {
   "metadata": {
    "ExecuteTime": {
     "end_time": "2025-09-17T10:21:58.130019Z",
     "start_time": "2025-09-17T10:21:58.127827Z"
    }
   },
   "cell_type": "code",
   "source": "print(\"Week-2\")",
   "id": "b948993a0e42e79d",
   "outputs": [
    {
     "name": "stdout",
     "output_type": "stream",
     "text": [
      "Week-2\n"
     ]
    }
   ],
   "execution_count": 3
  }
 ],
 "metadata": {
  "kernelspec": {
   "display_name": "Python 3",
   "language": "python",
   "name": "python3"
  },
  "language_info": {
   "codemirror_mode": {
    "name": "ipython",
    "version": 2
   },
   "file_extension": ".py",
   "mimetype": "text/x-python",
   "name": "python",
   "nbconvert_exporter": "python",
   "pygments_lexer": "ipython2",
   "version": "2.7.6"
  }
 },
 "nbformat": 4,
 "nbformat_minor": 5
}
